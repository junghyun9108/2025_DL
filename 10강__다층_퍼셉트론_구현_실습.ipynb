{
  "nbformat": 4,
  "nbformat_minor": 0,
  "metadata": {
    "colab": {
      "provenance": [],
      "authorship_tag": "ABX9TyM1R3VYX7hL7mUxOuF+tsjm",
      "include_colab_link": true
    },
    "kernelspec": {
      "name": "python3",
      "display_name": "Python 3"
    },
    "language_info": {
      "name": "python"
    }
  },
  "cells": [
    {
      "cell_type": "markdown",
      "metadata": {
        "id": "view-in-github",
        "colab_type": "text"
      },
      "source": [
        "<a href=\"https://colab.research.google.com/github/junghyun9108/2025_DL/blob/main/10%EA%B0%95__%EB%8B%A4%EC%B8%B5_%ED%8D%BC%EC%85%89%ED%8A%B8%EB%A1%A0_%EA%B5%AC%ED%98%84_%EC%8B%A4%EC%8A%B5.ipynb\" target=\"_parent\"><img src=\"https://colab.research.google.com/assets/colab-badge.svg\" alt=\"Open In Colab\"/></a>"
      ]
    },
    {
      "cell_type": "code",
      "execution_count": 12,
      "metadata": {
        "id": "BAEftLw6XPIn"
      },
      "outputs": [],
      "source": [
        "import numpy as np\n",
        "# np.set_printoptions(formatter={'int': lambda x: str(int(x))})"
      ]
    },
    {
      "cell_type": "code",
      "source": [
        "class MLP: # Multi Layer Perceptron\n",
        "    def __init__(self, input_size, hidden_size, output_size):\n",
        "        self.input_size = input_size\n",
        "        self.hidden_size = hidden_size\n",
        "        self.output_size = output_size\n",
        "\n",
        "        # 가중치 초기화\n",
        "        #self.w1_2_3_4 = np.random.random((self.input_size, self.hidden_size))\n",
        "        self.w1_2_3_4 = [[1,10],[1,10]]\n",
        "        #self.w5_6 = np.random.random((self.hidden_size, self.output_size))\n",
        "        self.w5_6 = [[-40],[40]]\n",
        "\n",
        "    def sigmoid(self, x):\n",
        "        return 1 / ( 1 + np.exp(-x) )\n",
        "\n",
        "    def forward(self, X):\n",
        "        # Propagate inputs through the network\n",
        "        self.z1_2 = np.dot(X, self.w1_2_3_4)    # 1 x 2\n",
        "        self.h = self.sigmoid(self.z1_2)        # 1 x 2\n",
        "        self.z3 = np.dot(self.h, self.w5_6)     # 1 x 1\n",
        "        self.o = self.sigmoid(self.z3)          # 1 x 1\n",
        "        return self.o\n",
        "\n",
        "    def mse_loss(self, y_true, y_pred):\n",
        "        # MSE 손실계산\n",
        "        return np.mean((y_true - y_pred) ** 2)\n",
        "\n",
        "    def backward(self, X , y, y_pred, learning_rate):\n",
        "        #체인룰 계산\n",
        "        dc_do1 = -2 * (y - y_pred)\n",
        "        do1_dz3 = y_pred * (1 - y_pred)\n",
        "        dz3_dw5_6 = self.h\n",
        "        dc_dw5_6 = dc_do1 * do1_dz3 * dz3_dw5_6       # 1 x 2\n",
        "        self.w5_6 = self.w5_6 + learning_rate * -dc_dw5_6.T  # 2 x 1\n",
        "        dc_dw1_2_3_4 = dc_do1 * do1_dz3 * np.dot(self.w5_6 * (self.h * (1 - self.h)).T , X) # 차원 변경\n",
        "\n",
        "        self.w1_2_3_4 = self.w1_2_3_4 + learning_rate * -dc_dw1_2_3_4.T\n",
        "\n",
        "    def train(self , X_train, y_train, epochs, learning_rate):\n",
        "        for epoch in range(epochs):\n",
        "            for i in range(len(X_train)):\n",
        "\n",
        "                #forward pass\n",
        "                y_pred = self.forward([X_train[i]])\n",
        "                #compute and print loss\n",
        "                loss = self.mse_loss([y_train[i]], y_pred) # 리스트 제거\n",
        "                #Backward pass\n",
        "                self.backward([X_train[i]], [y_train[i]], y_pred, learning_rate)\n",
        "\n",
        "            if np.mod(epoch,100)==0:\n",
        "                print('epoch', epoch, 'loss=',loss)"
      ],
      "metadata": {
        "id": "qsYy6xzaYj_Q"
      },
      "execution_count": 15,
      "outputs": []
    },
    {
      "cell_type": "code",
      "source": [
        "# 데이터 생성\n",
        "X_train = np.random.randint(0 ,2 ,(100,2))\n",
        "y_train = (X_train[:,0] != X_train[:,1]).astype(int)"
      ],
      "metadata": {
        "id": "gbwnELuTd7r_"
      },
      "execution_count": 16,
      "outputs": []
    },
    {
      "cell_type": "code",
      "source": [
        "# 다중퍼셉트론 선언\n",
        "mlp = MLP(input_size = 2, hidden_size = 2, output_size = 1)"
      ],
      "metadata": {
        "id": "yDV97noKgGra"
      },
      "execution_count": 17,
      "outputs": []
    },
    {
      "cell_type": "code",
      "source": [
        "# 모델 학습\n",
        "mlp.train(X_train, y_train, epochs = 1000, learning_rate = 0.1)"
      ],
      "metadata": {
        "colab": {
          "base_uri": "https://localhost:8080/"
        },
        "id": "jCyacwsPghgJ",
        "outputId": "8e7ec465-6db4-45eb-f002-4136b25c57f3"
      },
      "execution_count": 18,
      "outputs": [
        {
          "output_type": "stream",
          "name": "stdout",
          "text": [
            "epoch 0 loss= 0.12527977706093843\n",
            "epoch 100 loss= 0.0013360734016231593\n",
            "epoch 200 loss= 0.000611674531033747\n",
            "epoch 300 loss= 0.0003930651659396457\n",
            "epoch 400 loss= 0.00029168187453689187\n",
            "epoch 500 loss= 0.00023462185267242015\n",
            "epoch 600 loss= 0.00019869786984297625\n",
            "epoch 700 loss= 0.00017434975919521813\n",
            "epoch 800 loss= 0.00015695585296196342\n",
            "epoch 900 loss= 0.00014402523918580838\n"
          ]
        }
      ]
    },
    {
      "cell_type": "code",
      "source": [
        "#테스트 값으로 모델값 예측\n",
        "test_input = np.array([0,0])\n",
        "predicted_output = mlp.forward(test_input)\n",
        "print(\"Predicted Output:\", test_input, predicted_output)\n",
        "\n",
        "test_input = np.array([1,0])\n",
        "predicted_output = mlp.forward(test_input)\n",
        "print(\"Predicted Output:\", test_input, predicted_output)\n",
        "\n",
        "test_input = np.array([0,1])\n",
        "predicted_output = mlp.forward(test_input)\n",
        "print(\"Predicted Output:\", test_input, predicted_output)\n",
        "\n",
        "test_input = np.array([1,1])\n",
        "predicted_output = mlp.forward(test_input)\n",
        "print(\"Predicted Output:\", test_input, predicted_output)\n"
      ],
      "metadata": {
        "colab": {
          "base_uri": "https://localhost:8080/"
        },
        "id": "Mmrt-ed3hChB",
        "outputId": "b1c2dfe1-da0f-45f5-bf7d-bc5477d090ea"
      },
      "execution_count": 19,
      "outputs": [
        {
          "output_type": "stream",
          "name": "stdout",
          "text": [
            "Predicted Output: [0 0] [0.01158398]\n",
            "Predicted Output: [1 0] [0.97342849]\n",
            "Predicted Output: [0 1] [0.96633704]\n",
            "Predicted Output: [1 1] [0.03745298]\n"
          ]
        }
      ]
    },
    {
      "cell_type": "code",
      "source": [],
      "metadata": {
        "id": "_jdEzObxKFCy"
      },
      "execution_count": null,
      "outputs": []
    }
  ]
}