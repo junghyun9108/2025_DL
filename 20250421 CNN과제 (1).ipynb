{
  "cells": [
    {
      "cell_type": "code",
      "execution_count": null,
      "metadata": {
        "id": "RjyzUZNv71kQ"
      },
      "outputs": [],
      "source": [
        "import torch\n",
        "from torch.utils.data import random_split\n",
        "import torchvision\n",
        "import torchvision.transforms as transforms\n",
        "from torchvision import models\n",
        "import torch.nn as nn\n",
        "import torch.optim as optim\n",
        "from google.colab import drive\n",
        "drive.mount('/content/drive')\n",
        "device = torch.device(\"cuda\" if torch.cuda.is_available() else \"cpu\")"
      ]
    },
    {
      "cell_type": "code",
      "execution_count": null,
      "metadata": {
        "id": "Hl8oBZoU71kS",
        "outputId": "38039a64-c53c-424a-994c-8e903134c84b"
      },
      "outputs": [
        {
          "name": "stdout",
          "output_type": "stream",
          "text": [
            "Files already downloaded and verified\n",
            "Files already downloaded and verified\n"
          ]
        }
      ],
      "source": [
        "# 기본 데이터 전처리. 추가적인 전처리는 따로 정의하여 사용해주세요.\n",
        "transform = transforms.Compose(\n",
        "    [transforms.ToTensor(),\n",
        "     transforms.Normalize((0.5, 0.5, 0.5), (0.5, 0.5, 0.5))])\n",
        "\n",
        "# CIFAR10 데이터셋 다운로드\n",
        "dataset = torchvision.datasets.CIFAR10(root='/content/drive/MyDrive/20240513/', train=True,\n",
        "                                        download=True, transform=transform)\n",
        "\n",
        "# 학습 데이터셋과 검증 데이터셋으로 분할\n",
        "trainset, valset = random_split(dataset, [40000, 10000])\n",
        "\n",
        "trainloader = torch.utils.data.DataLoader(trainset, batch_size=64,\n",
        "                                          shuffle=True, num_workers=4)\n",
        "valloader = torch.utils.data.DataLoader(valset, batch_size=64,\n",
        "                                        shuffle=False, num_workers=4)\n",
        "\n",
        "testset = torchvision.datasets.CIFAR10(root='/content/drive/MyDrive/20240513/', train=False,\n",
        "                                       download=True, transform=transform)\n",
        "testloader = torch.utils.data.DataLoader(testset, batch_size=64,\n",
        "                                         shuffle=False, num_workers=4)"
      ]
    },
    {
      "cell_type": "code",
      "execution_count": null,
      "metadata": {
        "id": "Ort6PlIj71kT"
      },
      "outputs": [],
      "source": [
        "def calculate_accuracy(testloader, model):\n",
        "    correct = 0\n",
        "    total = 0\n",
        "    model.eval()\n",
        "    with torch.no_grad():\n",
        "        for data in testloader:\n",
        "            images, labels = data\n",
        "            images, labels = images.to(device), labels.to(device)\n",
        "            outputs = model(images)\n",
        "            _, predicted = torch.max(outputs.data, 1)\n",
        "            total += labels.size(0)\n",
        "            correct += (predicted == labels).sum().item()\n",
        "\n",
        "    print('Accuracy of the network on the test images: %.2f %%' % (100 * correct / total))"
      ]
    },
    {
      "cell_type": "markdown",
      "metadata": {
        "id": "lM0rBkLK71kT"
      },
      "source": [
        "CIFAR10 분류 문제의 성능을 더욱 향상시키는 방법은 여러 가지가 있습니다:\n",
        "\n",
        "1. 데이터 증강(Data Augmentation): 데이터 증강은 기존의 학습 데이터를 변형하여 새로운 학습 데이터를 생성하는 방법입니다. 이를 통해 모델이 다양한 변형에 대해 더욱 견고해질 수 있습니다. PyTorch의 torchvision.transforms 모듈을 사용하면 간단하게 데이터 증강을 적용할 수 있습니다.\n",
        "\n",
        "2. 다른 모델 아키텍처 사용: 실습에 사용한 코드 외에도 다양한 CNN 아키텍처가 있습니다.ResNet, VGG, GoogLeNet, DenseNet 등 다른 모델 아키텍처를 사용할 수 있습니다.\n",
        "\n",
        "3. 하이퍼파라미터 튜닝: 학습률, 배치 크기, 에폭 수 등의 하이퍼파라미터를 조정하여 성능을 향상시킬 수 있습니다.\n",
        "\n",
        "4. Early Stopping: 검증 세트의 성능이 더 이상 향상되지 않을 때 학습을 중단하는 기법입니다. 이를 통해 과적합을 방지할 수 있습니다.\n",
        "\n",
        "5. Regularization: L1, L2 정규화나 Dropout과 같은 정규화 기법을 사용하여 과적합을 방지할 수 있습니다.\n",
        "\n",
        "\n",
        "위 방법들을 사용하여,\n",
        "\n",
        "1) 실습 코드 마지막에 기재된 `Accuracy of the network on the test images: 75.83 %`보다 높은 성능을 갖는 코드를 작성해주세요.\n",
        "\n",
        "2) 그리고 본인이 작성한 코드가 왜 기존의 코드보다 좋은 성능이 나왔는지 서술해주세요."
      ]
    }
  ],
  "metadata": {
    "kernelspec": {
      "display_name": "sde",
      "language": "python",
      "name": "python3"
    },
    "language_info": {
      "codemirror_mode": {
        "name": "ipython",
        "version": 3
      },
      "file_extension": ".py",
      "mimetype": "text/x-python",
      "name": "python",
      "nbconvert_exporter": "python",
      "pygments_lexer": "ipython3",
      "version": "3.9.18"
    },
    "colab": {
      "provenance": []
    }
  },
  "nbformat": 4,
  "nbformat_minor": 0
}