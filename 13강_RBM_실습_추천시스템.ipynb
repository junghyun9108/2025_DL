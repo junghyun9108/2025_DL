{
  "nbformat": 4,
  "nbformat_minor": 0,
  "metadata": {
    "colab": {
      "provenance": [],
      "authorship_tag": "ABX9TyPmlDurEtfeUF1c6s25bj5A",
      "include_colab_link": true
    },
    "kernelspec": {
      "name": "python3",
      "display_name": "Python 3"
    },
    "language_info": {
      "name": "python"
    }
  },
  "cells": [
    {
      "cell_type": "markdown",
      "metadata": {
        "id": "view-in-github",
        "colab_type": "text"
      },
      "source": [
        "<a href=\"https://colab.research.google.com/github/junghyun9108/2025_DL/blob/main/13%EA%B0%95_RBM_%EC%8B%A4%EC%8A%B5_%EC%B6%94%EC%B2%9C%EC%8B%9C%EC%8A%A4%ED%85%9C.ipynb\" target=\"_parent\"><img src=\"https://colab.research.google.com/assets/colab-badge.svg\" alt=\"Open In Colab\"/></a>"
      ]
    },
    {
      "cell_type": "code",
      "execution_count": 1,
      "metadata": {
        "id": "2d7DTdhL2WOL"
      },
      "outputs": [],
      "source": [
        "import numpy as np"
      ]
    },
    {
      "cell_type": "code",
      "source": [
        "class SimpleRBM:\n",
        "    def __init__(self, n_visible, n_hidden):\n",
        "        self.n_visible = n_visible\n",
        "        self.n_hidden = n_hidden\n",
        "        self.weights = np.random.randn(n_visible, n_hidden) * 0.1 # 가중치 W\n",
        "        self.visible_bias = np.zeros(n_visible) # 가시층 바이어스\n",
        "        self.hidden_bias = np.zeros(n_hidden) # 은닉층 바이어스\n",
        "\n",
        "    def sigmoid(self, x):\n",
        "        return 1 / (1 + np.exp(-x))\n",
        "\n",
        "    def train(self, data, learning_rate = 0.1 , n_epochs = 100):\n",
        "        for _ in range(n_epochs):\n",
        "            for v in data:\n",
        "                #은닉층 계산\n",
        "                h_prob = self.sigmoid(np.dot(v, self.weights) + self.hidden_bias)\n",
        "                h = np.random.binomial(1, h_prob)\n",
        "\n",
        "                #재구성 계산\n",
        "                v_recon = np.random.binomial(1, self.sigmoid(np.dot(h, self.weights.T) + self.visible_bias))\n",
        "                h_recon_prob = self.sigmoid(np.dot(v_recon, self.weights) + self.hidden_bias)\n",
        "\n",
        "                #가중치 업데이트\n",
        "                self.weights += learning_rate * (np.outer(v,h) - np.outer(v_recon, h_recon_prob))\n",
        "                self.visible_bias += learning_rate * (v - v_recon)\n",
        "                self.hidden_bias += learning_rate * (h - h_recon_prob)\n",
        "\n",
        "    def recommend(self , user_ratings , top_n = 3):\n",
        "        h_prob = self.sigmoid(np.dot(user_ratings, self.weights) + self.hidden_bias)\n",
        "        v_prob = self.sigmoid(np.dot(h_prob, self.weights.T) + self.visible_bias)\n",
        "        recommendations = np.argsort(v_prob)[::-1][:top_n]\n",
        "        return recommendations"
      ],
      "metadata": {
        "id": "V_T-Rbki2bvn"
      },
      "execution_count": 23,
      "outputs": []
    },
    {
      "cell_type": "code",
      "source": [
        "#영화 데이터 (0: 안봄, 1: 봄)\n",
        "movies = [\n",
        "    \"매트릭스\", \"스타워즈\", \"인스터스텔라\", \"블레이드 러너\", \"에이리언\", #sci-fi\n",
        "    \"노팅힐\", \"러브 액츄얼리\", \"브리짓\", \"그녀\", \"500일의 썸머\" # 로맨틱 코미디\n",
        "]\n",
        "\n",
        "users_data = np.array([\n",
        "    [1,1,1,1,1,0,0,0,0,0],\n",
        "    [1,1,1,0,1,0,0,0,1,0],\n",
        "    [0,0,0,0,0,1,1,1,1,1],\n",
        "    [0,0,0,1,0,1,1,1,1,0],\n",
        "    [1,1,0,0,0,1,1,0,0,1],\n",
        "    [1,0,1,1,0,0,1,0,1,0]\n",
        "])"
      ],
      "metadata": {
        "id": "mab4JwpR4vqO"
      },
      "execution_count": 24,
      "outputs": []
    },
    {
      "cell_type": "code",
      "source": [
        "#RBM 모델 생성 및 학습\n",
        "rbm = SimpleRBM(n_visible = 10 , n_hidden = 5)\n",
        "rbm.train(users_data, n_epochs= 5000)"
      ],
      "metadata": {
        "id": "TZmQEYni5elb"
      },
      "execution_count": 25,
      "outputs": []
    },
    {
      "cell_type": "code",
      "source": [
        "# 새로운 사용자의 영화 시청 기록\n",
        "new_user_scifi = np.array([1,1,1,0,0,0,0,0,0,0])\n",
        "new_user_romcom = np.array([0,0,0,0,0,1,1,1,0,0])"
      ],
      "metadata": {
        "id": "7Xh0WPGP5mdr"
      },
      "execution_count": 35,
      "outputs": []
    },
    {
      "cell_type": "code",
      "source": [
        "def print_recommendations(user_ratings, user_type):\n",
        "    recommendations = rbm.recommend(user_ratings, top_n = 3)\n",
        "    print(f\"\\n({user_type} 선호 사용자 추천 영화:)\")\n",
        "    for i in recommendations:\n",
        "        print(f\"- {movies[i]} ({'Sci-fi' if i < 5 else '로맨틱 코매디'})\")\n"
      ],
      "metadata": {
        "id": "4op7yyVP6rQ2"
      },
      "execution_count": 31,
      "outputs": []
    },
    {
      "cell_type": "code",
      "source": [
        "print_recommendations(new_user_scifi,\"Sci-fi\")"
      ],
      "metadata": {
        "colab": {
          "base_uri": "https://localhost:8080/"
        },
        "id": "dZQlEdNr7I1j",
        "outputId": "50319775-504d-43a2-b1df-866144f6c3d4"
      },
      "execution_count": 32,
      "outputs": [
        {
          "output_type": "stream",
          "name": "stdout",
          "text": [
            "\n",
            "(Sci-fi 선호 사용자 추천 영화:)\n",
            "- 매트릭스 (Sci-fi)\n",
            "- 인스터스텔라 (Sci-fi)\n",
            "- 스타워즈 (Sci-fi)\n"
          ]
        }
      ]
    },
    {
      "cell_type": "code",
      "source": [
        "print_recommendations(new_user_romcom,\"로맨틱 코미디\")"
      ],
      "metadata": {
        "colab": {
          "base_uri": "https://localhost:8080/"
        },
        "id": "rwCfFjBd7NYU",
        "outputId": "fbc8caad-24c4-4b25-8750-ec145ef057c8"
      },
      "execution_count": 36,
      "outputs": [
        {
          "output_type": "stream",
          "name": "stdout",
          "text": [
            "\n",
            "(로맨틱 코미디 선호 사용자 추천 영화:)\n",
            "- 러브 액츄얼리 (로맨틱 코매디)\n",
            "- 노팅힐 (로맨틱 코매디)\n",
            "- 브리짓 (로맨틱 코매디)\n"
          ]
        }
      ]
    }
  ]
}